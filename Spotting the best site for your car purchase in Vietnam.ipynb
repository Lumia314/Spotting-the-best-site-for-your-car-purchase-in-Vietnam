{
 "cells": [
  {
   "cell_type": "markdown",
   "metadata": {},
   "source": [
    "# Spotting the best site for your car purchase in Vietnam\n",
    "## Motivation\n",
    "Vietnam stable economic growth has brought along a new group willing to spend more on transport. The vehicle market in Vietnam ended 2016 with an impressive sales of 286,845 units and since then exprerience a steady growth to 293,563 units in 2019. More and more people are considering owning a car for private use or having a side job such as a part time driver. Along with that trend, there has been various sites offering car sales for people who prefer shopping with ease at the comfort of their home. I make this project so you can **easily compare the price of different brands between these sites**. "
   ]
  },
  {
   "cell_type": "markdown",
   "metadata": {},
   "source": [
    "## Dataset\n",
    "The datasets I am using in this project have been scraped using Python on 4 top sites showed on Google Search:\n",
    "- Oto.com.vn\n",
    "- Choxeotofun.net\n",
    "- Choxe.net\n",
    "- Carmudi.vn"
   ]
  },
  {
   "cell_type": "markdown",
   "metadata": {},
   "source": [
    "In order to focus only on the information we need, price and brands, I will only include the following columns in all 4 datasets, the datasets has been cleaned from outliers and missing data:\n",
    "- brand\n",
    "- productYear\n",
    "- imported_bool: **True** if the car is imported, **False** if not\n",
    "- new_bool: **True** if the car is new, **False** if not\n",
    "- price: in VND"
   ]
  },
  {
   "cell_type": "code",
   "execution_count": 1,
   "metadata": {},
   "outputs": [],
   "source": [
    "import pandas as pd\n",
    "import matplotlib.pyplot as plt\n",
    "%matplotlib inline"
   ]
  },
  {
   "cell_type": "code",
   "execution_count": 2,
   "metadata": {},
   "outputs": [],
   "source": [
    "car = pd.read_csv('carmudi_cleaned.csv')   # Carmudi.vn\n",
    "oto = pd.read_csv('oto_cleaned_v2.csv')    # Oto.com.vn\n",
    "cxe = pd.read_csv('choxe_cleaned_v2.csv')  # ChoXe.vn\n",
    "otf = pd.read_csv('otofun_cleaned.csv')    # Choxeotofun.net"
   ]
  },
  {
   "cell_type": "code",
   "execution_count": 3,
   "metadata": {},
   "outputs": [],
   "source": [
    "# Selecting only columns focusing on our question\n",
    "car = car[['brand', 'productYear', 'originAssembled', 'condition', 'price']]\n",
    "car.columns = ['brand', 'productYear', 'imported_bool', 'new_bool', 'price']\n",
    "oto = oto[['brand', 'productYear', 'imported_bool', 'new_bool', 'price']]\n",
    "cxe = cxe[['brand', 'productYear', 'imported_bool', 'new_bool', 'price']]"
   ]
  },
  {
   "cell_type": "markdown",
   "metadata": {},
   "source": [
    "## Using domain knowledge\n",
    "These sites business model is quite straightforward. The sellers sign up an account and choose a package based on how often and how prime they want their articles to be presented. Most sites will renew a post once every 5 days until the sale is made. Thus the raw dataset can be redundant and effect our judgement. Let's drop these duplicates."
   ]
  },
  {
   "cell_type": "code",
   "execution_count": 4,
   "metadata": {},
   "outputs": [
    {
     "data": {
      "text/plain": [
       "(1170, 5)"
      ]
     },
     "execution_count": 4,
     "metadata": {},
     "output_type": "execute_result"
    }
   ],
   "source": [
    "car.shape"
   ]
  },
  {
   "cell_type": "code",
   "execution_count": 5,
   "metadata": {},
   "outputs": [
    {
     "data": {
      "text/plain": [
       "(778, 5)"
      ]
     },
     "execution_count": 5,
     "metadata": {},
     "output_type": "execute_result"
    }
   ],
   "source": [
    "car = car.drop_duplicates(keep=False, ignore_index=True)\n",
    "car.shape"
   ]
  },
  {
   "cell_type": "code",
   "execution_count": 6,
   "metadata": {},
   "outputs": [
    {
     "data": {
      "text/plain": [
       "(12597, 5)"
      ]
     },
     "execution_count": 6,
     "metadata": {},
     "output_type": "execute_result"
    }
   ],
   "source": [
    "oto.shape"
   ]
  },
  {
   "cell_type": "code",
   "execution_count": 7,
   "metadata": {},
   "outputs": [
    {
     "data": {
      "text/plain": [
       "(1033, 5)"
      ]
     },
     "execution_count": 7,
     "metadata": {},
     "output_type": "execute_result"
    }
   ],
   "source": [
    "oto = oto.drop_duplicates(keep=False, ignore_index=True)\n",
    "oto.shape"
   ]
  },
  {
   "cell_type": "code",
   "execution_count": 8,
   "metadata": {},
   "outputs": [
    {
     "data": {
      "text/plain": [
       "(3945, 5)"
      ]
     },
     "execution_count": 8,
     "metadata": {},
     "output_type": "execute_result"
    }
   ],
   "source": [
    "cxe.shape"
   ]
  },
  {
   "cell_type": "code",
   "execution_count": 9,
   "metadata": {},
   "outputs": [
    {
     "data": {
      "text/plain": [
       "(1441, 5)"
      ]
     },
     "execution_count": 9,
     "metadata": {},
     "output_type": "execute_result"
    }
   ],
   "source": [
    "cxe = cxe.drop_duplicates(keep=False, ignore_index=True)\n",
    "cxe.shape"
   ]
  },
  {
   "cell_type": "code",
   "execution_count": 10,
   "metadata": {},
   "outputs": [
    {
     "data": {
      "text/plain": [
       "(600, 5)"
      ]
     },
     "execution_count": 10,
     "metadata": {},
     "output_type": "execute_result"
    }
   ],
   "source": [
    "otf.shape"
   ]
  },
  {
   "cell_type": "code",
   "execution_count": 11,
   "metadata": {},
   "outputs": [
    {
     "data": {
      "text/plain": [
       "(557, 5)"
      ]
     },
     "execution_count": 11,
     "metadata": {},
     "output_type": "execute_result"
    }
   ],
   "source": [
    "otf = otf.drop_duplicates(keep=False, ignore_index=True)\n",
    "otf.shape"
   ]
  },
  {
   "cell_type": "markdown",
   "metadata": {},
   "source": [
    "## Comparing prices of different cars brands\n",
    "For this project, I picked 6 most popular brands from Choxe.vn as it is the largest dataset. You can feel free to have different choices as you want."
   ]
  },
  {
   "cell_type": "code",
   "execution_count": 12,
   "metadata": {},
   "outputs": [
    {
     "data": {
      "text/plain": [
       "hyundai          227\n",
       "toyota           152\n",
       "ford             144\n",
       "kia               97\n",
       "mercedes benz     81\n",
       "mazda             61\n",
       "Name: brand, dtype: int64"
      ]
     },
     "execution_count": 12,
     "metadata": {},
     "output_type": "execute_result"
    }
   ],
   "source": [
    "oto['brand'] = oto['brand'].str.replace(\"-\", \" \")  # Unify the names such as mercedes benz\n",
    "cxe['brand'] = cxe['brand'].str.replace(\"-\", \" \")\n",
    "cxe['brand'].value_counts()[:6]"
   ]
  },
  {
   "cell_type": "code",
   "execution_count": 13,
   "metadata": {},
   "outputs": [
    {
     "data": {
      "text/html": [
       "<div>\n",
       "<style scoped>\n",
       "    .dataframe tbody tr th:only-of-type {\n",
       "        vertical-align: middle;\n",
       "    }\n",
       "\n",
       "    .dataframe tbody tr th {\n",
       "        vertical-align: top;\n",
       "    }\n",
       "\n",
       "    .dataframe thead th {\n",
       "        text-align: right;\n",
       "    }\n",
       "</style>\n",
       "<table border=\"1\" class=\"dataframe\">\n",
       "  <thead>\n",
       "    <tr style=\"text-align: right;\">\n",
       "      <th></th>\n",
       "      <th>Carmudi</th>\n",
       "      <th>Oto.com.vn</th>\n",
       "      <th>Choxe</th>\n",
       "      <th>Otofun</th>\n",
       "    </tr>\n",
       "  </thead>\n",
       "  <tbody>\n",
       "    <tr>\n",
       "      <th>hyundai</th>\n",
       "      <td>698424779</td>\n",
       "      <td>628182677</td>\n",
       "      <td>642103965</td>\n",
       "      <td>586808219</td>\n",
       "    </tr>\n",
       "    <tr>\n",
       "      <th>toyota</th>\n",
       "      <td>941906780</td>\n",
       "      <td>687502283</td>\n",
       "      <td>1200453947</td>\n",
       "      <td>978043478</td>\n",
       "    </tr>\n",
       "    <tr>\n",
       "      <th>ford</th>\n",
       "      <td>1039835165</td>\n",
       "      <td>886898990</td>\n",
       "      <td>899360417</td>\n",
       "      <td>558117647</td>\n",
       "    </tr>\n",
       "    <tr>\n",
       "      <th>kia</th>\n",
       "      <td>535220339</td>\n",
       "      <td>466469880</td>\n",
       "      <td>633876289</td>\n",
       "      <td>433828571</td>\n",
       "    </tr>\n",
       "    <tr>\n",
       "      <th>mercedes benz</th>\n",
       "      <td>2547330579</td>\n",
       "      <td>2239626168</td>\n",
       "      <td>3036703704</td>\n",
       "      <td>1211773585</td>\n",
       "    </tr>\n",
       "    <tr>\n",
       "      <th>mazda</th>\n",
       "      <td>729877551</td>\n",
       "      <td>709395349</td>\n",
       "      <td>786230492</td>\n",
       "      <td>627615316</td>\n",
       "    </tr>\n",
       "  </tbody>\n",
       "</table>\n",
       "</div>"
      ],
      "text/plain": [
       "                  Carmudi  Oto.com.vn       Choxe      Otofun\n",
       "hyundai         698424779   628182677   642103965   586808219\n",
       "toyota          941906780   687502283  1200453947   978043478\n",
       "ford           1039835165   886898990   899360417   558117647\n",
       "kia             535220339   466469880   633876289   433828571\n",
       "mercedes benz  2547330579  2239626168  3036703704  1211773585\n",
       "mazda           729877551   709395349   786230492   627615316"
      ]
     },
     "execution_count": 13,
     "metadata": {},
     "output_type": "execute_result"
    }
   ],
   "source": [
    "# Initialize 4 empty dictionaries corresponding to 4 datasets\n",
    "car_price_by_brand = {}\n",
    "oto_price_by_brand = {}\n",
    "cxe_price_by_brand = {}\n",
    "otf_price_by_brand = {}\n",
    "\n",
    "pop_brands = (cxe['brand'].value_counts()[:6]).index\n",
    "\n",
    "# Caculate and fill the dictionaries with means of price belonging to each dataset\n",
    "for brand in pop_brands:\n",
    "    price = car.loc[car['brand'] == brand,'price']\n",
    "    try:\n",
    "        car_price_by_brand[brand] = round(price.mean())\n",
    "    except Exception:\n",
    "        pass\n",
    "for brand in pop_brands:\n",
    "    price = oto.loc[oto['brand'] == brand,'price']\n",
    "    try:\n",
    "        oto_price_by_brand[brand] = round(price.mean())\n",
    "    except Exception:\n",
    "        pass\n",
    "for brand in pop_brands:\n",
    "    price = cxe.loc[cxe['brand'] == brand,'price']\n",
    "    try:\n",
    "        cxe_price_by_brand[brand] = round(price.mean())\n",
    "    except Exception:\n",
    "        pass\n",
    "for brand in pop_brands:\n",
    "    price = otf.loc[otf['brand'] == brand,'price']\n",
    "    try:\n",
    "        otf_price_by_brand[brand] = round(price.mean())\n",
    "    except Exception:\n",
    "        pass\n",
    "    \n",
    "car_series = pd.Series(car_price_by_brand)\n",
    "oto_series = pd.Series(oto_price_by_brand)\n",
    "cxe_series = pd.Series(cxe_price_by_brand)\n",
    "otf_series = pd.Series(otf_price_by_brand)\n",
    "\n",
    "# Concatenate into 1 dataframe\n",
    "result = pd.concat([car_series, oto_series, cxe_series, otf_series], axis=1)\n",
    "result.columns = ['Carmudi', 'Oto.com.vn', 'Choxe', 'Otofun']\n",
    "pd.options.display.float_format = '{:,.0f}'.format\n",
    "result"
   ]
  },
  {
   "cell_type": "code",
   "execution_count": 41,
   "metadata": {},
   "outputs": [
    {
     "data": {
      "text/plain": [
       "<matplotlib.axes._subplots.AxesSubplot at 0x7890ffde80>"
      ]
     },
     "execution_count": 41,
     "metadata": {},
     "output_type": "execute_result"
    },
    {
     "data": {
      "image/png": "[encoded data removed]",
      "text/plain": [
       "<Figure size 576x432 with 1 Axes>"
      ]
     },
     "metadata": {},
     "output_type": "display_data"
    }
   ],
   "source": [
    "plt.style.use('ggplot')\n",
    "result.plot.bar(figsize=(8,6), rot=0, title=\"Car price\")"
   ]
  },
  {
   "cell_type": "markdown",
   "metadata": {},
   "source": [
    "### Observations\n",
    "As expected, Mercedes Benz is the most expensive brands compared to the rest, it is the brand where price varies the most between the sites. The mid range price includes Toyota and Ford. Finally, the lower price band is very competitive. However, the chart above is too general and cannot show us the price difference between old and new cars. Let's dive deeper into our datasets and find out."
   ]
  },
  {
   "cell_type": "markdown",
   "metadata": {},
   "source": [
    "### Compare old car price"
   ]
  },
  {
   "cell_type": "code",
   "execution_count": 33,
   "metadata": {},
   "outputs": [
    {
     "data": {
      "text/html": [
       "<div>\n",
       "<style scoped>\n",
       "    .dataframe tbody tr th:only-of-type {\n",
       "        vertical-align: middle;\n",
       "    }\n",
       "\n",
       "    .dataframe tbody tr th {\n",
       "        vertical-align: top;\n",
       "    }\n",
       "\n",
       "    .dataframe thead th {\n",
       "        text-align: right;\n",
       "    }\n",
       "</style>\n",
       "<table border=\"1\" class=\"dataframe\">\n",
       "  <thead>\n",
       "    <tr style=\"text-align: right;\">\n",
       "      <th></th>\n",
       "      <th>Carmudi</th>\n",
       "      <th>Oto.com.vn</th>\n",
       "      <th>Choxe</th>\n",
       "      <th>Otofun</th>\n",
       "    </tr>\n",
       "  </thead>\n",
       "  <tbody>\n",
       "    <tr>\n",
       "      <th>hyundai</th>\n",
       "      <td>579588235</td>\n",
       "      <td>541454545</td>\n",
       "      <td>605153846</td>\n",
       "      <td>569984615</td>\n",
       "    </tr>\n",
       "    <tr>\n",
       "      <th>toyota</th>\n",
       "      <td>841472973</td>\n",
       "      <td>653510526</td>\n",
       "      <td>625580000</td>\n",
       "      <td>753885246</td>\n",
       "    </tr>\n",
       "    <tr>\n",
       "      <th>ford</th>\n",
       "      <td>893333333</td>\n",
       "      <td>602826923</td>\n",
       "      <td>416050000</td>\n",
       "      <td>535159091</td>\n",
       "    </tr>\n",
       "    <tr>\n",
       "      <th>kia</th>\n",
       "      <td>516678571</td>\n",
       "      <td>416350877</td>\n",
       "      <td>525000000</td>\n",
       "      <td>433828571</td>\n",
       "    </tr>\n",
       "    <tr>\n",
       "      <th>mercedes benz</th>\n",
       "      <td>2279025641</td>\n",
       "      <td>1766886364</td>\n",
       "      <td>2072333333</td>\n",
       "      <td>1211773585</td>\n",
       "    </tr>\n",
       "    <tr>\n",
       "      <th>mazda</th>\n",
       "      <td>643529412</td>\n",
       "      <td>577043478</td>\n",
       "      <td>528000000</td>\n",
       "      <td>627615316</td>\n",
       "    </tr>\n",
       "  </tbody>\n",
       "</table>\n",
       "</div>"
      ],
      "text/plain": [
       "                  Carmudi  Oto.com.vn       Choxe      Otofun\n",
       "hyundai         579588235   541454545   605153846   569984615\n",
       "toyota          841472973   653510526   625580000   753885246\n",
       "ford            893333333   602826923   416050000   535159091\n",
       "kia             516678571   416350877   525000000   433828571\n",
       "mercedes benz  2279025641  1766886364  2072333333  1211773585\n",
       "mazda           643529412   577043478   528000000   627615316"
      ]
     },
     "execution_count": 33,
     "metadata": {},
     "output_type": "execute_result"
    }
   ],
   "source": [
    "old_car_price_by_brand = {}\n",
    "old_oto_price_by_brand = {}\n",
    "old_cxe_price_by_brand = {}\n",
    "old_otf_price_by_brand = {}\n",
    "\n",
    "pop_brands = (cxe['brand'].value_counts()[:6]).index\n",
    "\n",
    "# Caculate and fill the dictionaries with means of price belonging to each dataset\n",
    "for brand in pop_brands:\n",
    "    price = car.loc[(car['brand'] == brand) & (car['new_bool'] == False),'price']\n",
    "    try:\n",
    "        old_car_price_by_brand[brand] = round(price.mean())\n",
    "    except Exception:\n",
    "        pass\n",
    "for brand in pop_brands:\n",
    "    price = oto.loc[(oto['brand'] == brand) & (oto['new_bool'] == False),'price']\n",
    "    try:\n",
    "        old_oto_price_by_brand[brand] = round(price.mean())\n",
    "    except Exception:\n",
    "        pass\n",
    "for brand in pop_brands:\n",
    "    price = cxe.loc[(cxe['brand'] == brand) & (cxe['new_bool'] == False),'price']\n",
    "    try:\n",
    "        old_cxe_price_by_brand[brand] = round(price.mean())\n",
    "    except Exception:\n",
    "        pass\n",
    "for brand in pop_brands:\n",
    "    price = otf.loc[(otf['brand'] == brand) & (otf['new_bool'] == False),'price']\n",
    "    try:\n",
    "        old_otf_price_by_brand[brand] = round(price.mean())\n",
    "    except Exception:\n",
    "        pass\n",
    "    \n",
    "old_car_series = pd.Series(old_car_price_by_brand)\n",
    "old_oto_series = pd.Series(old_oto_price_by_brand)\n",
    "old_cxe_series = pd.Series(old_cxe_price_by_brand)\n",
    "old_otf_series = pd.Series(old_otf_price_by_brand)\n",
    "\n",
    "# Concatenate into 1 dataframe\n",
    "result_old = pd.concat([old_car_series, old_oto_series, old_cxe_series, old_otf_series], axis=1)\n",
    "result_old.columns = ['Carmudi', 'Oto.com.vn', 'Choxe', 'Otofun']\n",
    "result_old"
   ]
  },
  {
   "cell_type": "code",
   "execution_count": 40,
   "metadata": {},
   "outputs": [
    {
     "data": {
      "text/plain": [
       "<matplotlib.axes._subplots.AxesSubplot at 0x7890f541d0>"
      ]
     },
     "execution_count": 40,
     "metadata": {},
     "output_type": "execute_result"
    },
    {
     "data": {
      "image/png": "[encoded data removed]",
      "text/plain": [
       "<Figure size 576x432 with 1 Axes>"
      ]
     },
     "metadata": {},
     "output_type": "display_data"
    }
   ],
   "source": [
    "plt.style.use('ggplot')\n",
    "result_old.plot.bar(figsize=(8,6), rot=0, title=\"Old car price\")"
   ]
  },
  {
   "cell_type": "markdown",
   "metadata": {},
   "source": [
    "### Compare new car price"
   ]
  },
  {
   "cell_type": "code",
   "execution_count": 31,
   "metadata": {},
   "outputs": [
    {
     "data": {
      "text/html": [
       "<div>\n",
       "<style scoped>\n",
       "    .dataframe tbody tr th:only-of-type {\n",
       "        vertical-align: middle;\n",
       "    }\n",
       "\n",
       "    .dataframe tbody tr th {\n",
       "        vertical-align: top;\n",
       "    }\n",
       "\n",
       "    .dataframe thead th {\n",
       "        text-align: right;\n",
       "    }\n",
       "</style>\n",
       "<table border=\"1\" class=\"dataframe\">\n",
       "  <thead>\n",
       "    <tr style=\"text-align: right;\">\n",
       "      <th></th>\n",
       "      <th>Carmudi</th>\n",
       "      <th>Oto.com.vn</th>\n",
       "      <th>Choxe</th>\n",
       "      <th>Otofun</th>\n",
       "    </tr>\n",
       "  </thead>\n",
       "  <tbody>\n",
       "    <tr>\n",
       "      <th>hyundai</th>\n",
       "      <td>749569620</td>\n",
       "      <td>674159036</td>\n",
       "      <td>644348598</td>\n",
       "      <td>723,500,000</td>\n",
       "    </tr>\n",
       "    <tr>\n",
       "      <th>toyota</th>\n",
       "      <td>1110818182</td>\n",
       "      <td>910206897</td>\n",
       "      <td>1482254902</td>\n",
       "      <td>2,687,250,000</td>\n",
       "    </tr>\n",
       "    <tr>\n",
       "      <th>ford</th>\n",
       "      <td>1050176471</td>\n",
       "      <td>1201191489</td>\n",
       "      <td>977313710</td>\n",
       "      <td>702,428,571</td>\n",
       "    </tr>\n",
       "    <tr>\n",
       "      <th>kia</th>\n",
       "      <td>551967742</td>\n",
       "      <td>576346154</td>\n",
       "      <td>655382716</td>\n",
       "      <td>nan</td>\n",
       "    </tr>\n",
       "    <tr>\n",
       "      <th>mercedes benz</th>\n",
       "      <td>3034023256</td>\n",
       "      <td>4429157895</td>\n",
       "      <td>4075256410</td>\n",
       "      <td>nan</td>\n",
       "    </tr>\n",
       "    <tr>\n",
       "      <th>mazda</th>\n",
       "      <td>775750000</td>\n",
       "      <td>861600000</td>\n",
       "      <td>814401091</td>\n",
       "      <td>nan</td>\n",
       "    </tr>\n",
       "  </tbody>\n",
       "</table>\n",
       "</div>"
      ],
      "text/plain": [
       "                  Carmudi  Oto.com.vn       Choxe        Otofun\n",
       "hyundai         749569620   674159036   644348598   723,500,000\n",
       "toyota         1110818182   910206897  1482254902 2,687,250,000\n",
       "ford           1050176471  1201191489   977313710   702,428,571\n",
       "kia             551967742   576346154   655382716           nan\n",
       "mercedes benz  3034023256  4429157895  4075256410           nan\n",
       "mazda           775750000   861600000   814401091           nan"
      ]
     },
     "execution_count": 31,
     "metadata": {},
     "output_type": "execute_result"
    }
   ],
   "source": [
    "new_car_price_by_brand = {}\n",
    "new_oto_price_by_brand = {}\n",
    "new_cxe_price_by_brand = {}\n",
    "new_otf_price_by_brand = {}\n",
    "\n",
    "pop_brands = (cxe['brand'].value_counts()[:6]).index\n",
    "\n",
    "# Caculate and fill the dictionaries with means of price belonging to each dataset\n",
    "for brand in pop_brands:\n",
    "    price = car.loc[(car['brand'] == brand) & (car['new_bool'] == True),'price']\n",
    "    try:\n",
    "        new_car_price_by_brand[brand] = round(price.mean())\n",
    "    except Exception:\n",
    "        pass\n",
    "for brand in pop_brands:\n",
    "    price = oto.loc[(oto['brand'] == brand) & (oto['new_bool'] == True),'price']\n",
    "    try:\n",
    "        new_oto_price_by_brand[brand] = round(price.mean())\n",
    "    except Exception:\n",
    "        pass\n",
    "for brand in pop_brands:\n",
    "    price = cxe.loc[(cxe['brand'] == brand) & (cxe['new_bool'] == True),'price']\n",
    "    try:\n",
    "        new_cxe_price_by_brand[brand] = round(price.mean())\n",
    "    except Exception:\n",
    "        pass\n",
    "for brand in pop_brands:\n",
    "    price = otf.loc[(otf['brand'] == brand) & (otf['new_bool'] == True),'price']\n",
    "    try:\n",
    "        new_otf_price_by_brand[brand] = round(price.mean())\n",
    "    except Exception:\n",
    "        pass\n",
    "    \n",
    "new_car_series = pd.Series(new_car_price_by_brand)\n",
    "new_oto_series = pd.Series(new_oto_price_by_brand)\n",
    "new_cxe_series = pd.Series(new_cxe_price_by_brand)\n",
    "new_otf_series = pd.Series(new_otf_price_by_brand)\n",
    "\n",
    "# Concatenate into 1 dataframe\n",
    "result_new = pd.concat([new_car_series, new_oto_series, new_cxe_series, new_otf_series], axis=1)\n",
    "result_new.columns = ['Carmudi', 'Oto.com.vn', 'Choxe', 'Otofun']\n",
    "result_new"
   ]
  },
  {
   "cell_type": "code",
   "execution_count": 39,
   "metadata": {},
   "outputs": [
    {
     "data": {
      "text/plain": [
       "<matplotlib.axes._subplots.AxesSubplot at 0x7890ea1ba8>"
      ]
     },
     "execution_count": 39,
     "metadata": {},
     "output_type": "execute_result"
    },
    {
     "data": {
      "image/png": "[encoded data removed]",
      "text/plain": [
       "<Figure size 576x432 with 1 Axes>"
      ]
     },
     "metadata": {},
     "output_type": "display_data"
    }
   ],
   "source": [
    "plt.style.use('ggplot')\n",
    "result_new.plot.bar(figsize=(8,6), rot=0, title=\"New car price\")"
   ]
  },
  {
   "cell_type": "markdown",
   "metadata": {},
   "source": [
    "## Next steps\n",
    "Now it is easier to compare the prices. We can take further steps such as collecting more data from more websites or comparing imported and domestic cars."
   ]
  },
  {
   "cell_type": "code",
   "execution_count": null,
   "metadata": {},
   "outputs": [],
   "source": []
  }
 ],
 "metadata": {
  "kernelspec": {
   "display_name": "Python 3",
   "language": "python",
   "name": "python3"
  },
  "language_info": {
   "codemirror_mode": {
    "name": "ipython",
    "version": 3
   },
   "file_extension": ".py",
   "mimetype": "text/x-python",
   "name": "python",
   "nbconvert_exporter": "python",
   "pygments_lexer": "ipython3",
   "version": "3.6.10"
  }
 },
 "nbformat": 4,
 "nbformat_minor": 4
}
